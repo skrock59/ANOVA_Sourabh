{
 "cells": [
  {
   "cell_type": "code",
   "execution_count": 38,
   "metadata": {},
   "outputs": [
    {
     "data": {
      "text/plain": [
       "<matplotlib.axes._subplots.AxesSubplot at 0x194b45cb2e8>"
      ]
     },
     "execution_count": 38,
     "metadata": {},
     "output_type": "execute_result"
    },
    {
     "data": {
      "image/png": "[encoded data removed]",
      "text/plain": [
       "<matplotlib.figure.Figure at 0x194b4665a58>"
      ]
     },
     "metadata": {},
     "output_type": "display_data"
    }
   ],
   "source": [
    "import pandas as pd\n",
    "from scipy import stats\n",
    "\n",
    "\n",
    "df=pd.read_csv(\"Data_Set2_BasicsOfDataAnalytics.csv\")\n",
    "X=df.iloc[:,0]\n",
    "Y=df.iloc[:,1]\n",
    "Z=df.iloc[:,2]\n",
    "df.plot()\n"
   ]
  },
  {
   "cell_type": "code",
   "execution_count": 39,
   "metadata": {},
   "outputs": [
    {
     "name": "stdout",
     "output_type": "stream",
     "text": [
      "Number of Group: 3\n",
      "Overall mean: 25.833333333333332\n"
     ]
    }
   ],
   "source": [
    "X_mean = sum(X)/len(X)\n",
    "Y_mean = sum(Y)/len(Y)\n",
    "Z_mean= sum(Z)/len(Z)\n",
    "p=df.iloc[0,:]\n",
    "p1=len(p)\n",
    "p1\n",
    "print('Number of Group: {}'.format(p1))\n",
    "\n",
    "m=(X_mean+Y_mean+Z_mean)/p1\n",
    "print('Overall mean: {}'.format(m))"
   ]
  },
  {
   "cell_type": "code",
   "execution_count": 40,
   "metadata": {},
   "outputs": [
    {
     "name": "stdout",
     "output_type": "stream",
     "text": [
      "Between-groups Sum of Squared Differences SSb: 6.999999999999999\n",
      "Degree of freedum: 2\n",
      "Between-groups Mean Square value MSb: 3.4999999999999996\n",
      "Within-group Sum of Squared Differences SSw: 223.5\n",
      "Within-group Mean Square value: 15\n",
      "Within-group Mean Square value MSw: 14.9\n",
      "F-score: 0.23489932885906037\n"
     ]
    },
    {
     "data": {
      "text/html": [
       "<div>\n",
       "<style scoped>\n",
       "    .dataframe tbody tr th:only-of-type {\n",
       "        vertical-align: middle;\n",
       "    }\n",
       "\n",
       "    .dataframe tbody tr th {\n",
       "        vertical-align: top;\n",
       "    }\n",
       "\n",
       "    .dataframe thead th {\n",
       "        text-align: right;\n",
       "    }\n",
       "</style>\n",
       "<table border=\"1\" class=\"dataframe\">\n",
       "  <thead>\n",
       "    <tr style=\"text-align: right;\">\n",
       "      <th></th>\n",
       "      <th>Df</th>\n",
       "      <th>F-Stat</th>\n",
       "      <th>MSB</th>\n",
       "      <th>MSW</th>\n",
       "      <th>SSB</th>\n",
       "      <th>SSW</th>\n",
       "      <th>p_value((&gt;F))</th>\n",
       "    </tr>\n",
       "  </thead>\n",
       "  <tbody>\n",
       "    <tr>\n",
       "      <th>0</th>\n",
       "      <td>2</td>\n",
       "      <td>0.234899</td>\n",
       "      <td>3.5</td>\n",
       "      <td>14.9</td>\n",
       "      <td>7.0</td>\n",
       "      <td>223.5</td>\n",
       "      <td>0.050682113449436746</td>\n",
       "    </tr>\n",
       "  </tbody>\n",
       "</table>\n",
       "</div>"
      ],
      "text/plain": [
       "   Df    F-Stat  MSB   MSW  SSB    SSW         p_value((>F))\n",
       "0   2  0.234899  3.5  14.9  7.0  223.5  0.050682113449436746"
      ]
     },
     "execution_count": 40,
     "metadata": {},
     "output_type": "execute_result"
    }
   ],
   "source": [
    "\n",
    "SSb=len(X)*((X_mean-m)**2+(Y_mean-m)**2+(Z_mean-m)**2)\n",
    "print('Between-groups Sum of Squared Differences SSb: {}'.format(SSb))\n",
    "\n",
    "k=p1-1\n",
    "print('Degree of freedum: {}'.format(k))\n",
    "\n",
    "MSb=SSb/k\n",
    "print('Between-groups Mean Square value MSb: {}'.format(MSb))\n",
    "\n",
    "err_a=list(X-X_mean)\n",
    "err_b=list(Y-Y_mean)\n",
    "err_c=list(Z-Z_mean)\n",
    "err=err_a+err_b+err_c\n",
    "\n",
    "\n",
    "ssw=[]\n",
    "for i in err:\n",
    "    ssw.append(i**2)  \n",
    "SSw=sum(ssw)\n",
    "print('Within-group Sum of Squared Differences SSw: {}'.format(SSw))\n",
    "p2=len(X)+len(Y)+len(Z)-p1\n",
    "print('Within-group Mean Square value: {}'.format(p2))\n",
    "MSw=SSw/p2\n",
    "print('Within-group Mean Square value MSw: {}'.format(MSw))\n",
    "\n",
    "F=MSb/MSw\n",
    "l1=len(X)\n",
    "l2=len(Y)\n",
    "print('F-score: {}'.format(F))\n",
    "\n",
    "p=stats.f.cdf(F,l1,l2)\n",
    "p_new=str(p)\n",
    "Table_Data = {\"SSB\":SSb,\"MSB\":MSb,\"SSW\":SSw,\"MSW\":MSw,\"F-Stat\":F,\"p_value((>F))\":p_new,\"Df\":k}\n",
    "df1 = pd.DataFrame( Table_Data,index=[0] )\n",
    "df1"
   ]
  },
  {
   "cell_type": "code",
   "execution_count": null,
   "metadata": {},
   "outputs": [],
   "source": []
  },
  {
   "cell_type": "code",
   "execution_count": null,
   "metadata": {},
   "outputs": [],
   "source": []
  },
  {
   "cell_type": "code",
   "execution_count": null,
   "metadata": {},
   "outputs": [],
   "source": []
  },
  {
   "cell_type": "code",
   "execution_count": null,
   "metadata": {},
   "outputs": [],
   "source": []
  }
 ],
 "metadata": {
  "kernelspec": {
   "display_name": "Python 3",
   "language": "python",
   "name": "python3"
  },
  "language_info": {
   "codemirror_mode": {
    "name": "ipython",
    "version": 3
   },
   "file_extension": ".py",
   "mimetype": "text/x-python",
   "name": "python",
   "nbconvert_exporter": "python",
   "pygments_lexer": "ipython3",
   "version": "3.6.4"
  }
 },
 "nbformat": 4,
 "nbformat_minor": 2
}
